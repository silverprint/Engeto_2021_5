{
  "nbformat": 4,
  "nbformat_minor": 0,
  "metadata": {
    "colab": {
      "name": "Python_lekce_4_18_5_2021.ipynb",
      "provenance": [],
      "authorship_tag": "ABX9TyMp/eNSJ+GuwYWAzjLs0dLn",
      "include_colab_link": true
    },
    "kernelspec": {
      "name": "python3",
      "display_name": "Python 3"
    },
    "language_info": {
      "name": "python"
    }
  },
  "cells": [
    {
      "cell_type": "markdown",
      "metadata": {
        "id": "view-in-github",
        "colab_type": "text"
      },
      "source": [
        "<a href=\"https://colab.research.google.com/github/silverprint/Engeto_2021_5/blob/main/Python_lekce_4_18_5_2021.ipynb\" target=\"_parent\"><img src=\"https://colab.research.google.com/assets/colab-badge.svg\" alt=\"Open In Colab\"/></a>"
      ]
    },
    {
      "cell_type": "markdown",
      "metadata": {
        "id": "IRtUrkusPlDx"
      },
      "source": [
        "Vytvor program, ktery bude rozdelovat slova dle delky do jednotlivych listů. Tyto listy je třeba předgenerovat do slovníku. [2,3,4,5] slova se budou zadavat pomoci input"
      ]
    },
    {
      "cell_type": "code",
      "metadata": {
        "colab": {
          "base_uri": "https://localhost:8080/"
        },
        "id": "hImfh6JXPK98",
        "outputId": "58d14248-d61b-4a0f-a6a5-9405fe125562"
      },
      "source": [
        "slovnik = dict()\n",
        "slovnik = slovnik.fromkeys([1,2,3,4],[])\n",
        "print(slovnik)\n",
        "\n",
        "slovo = input('Zadej slovo: ')\n",
        "delka = len(slovo)\n",
        "\n",
        "if 1 < delka < 6:\n",
        "  slovnik[delka] = slovo\n",
        "  #slovnik[delka].append(slovo)\n",
        "else:\n",
        "  print(f'Slovo {slovo} je příliš dlouhé')\n",
        "\n",
        "print(slovnik)\n"
      ],
      "execution_count": 46,
      "outputs": [
        {
          "output_type": "stream",
          "text": [
            "{1: [], 2: [], 3: [], 4: []}\n",
            "Zadej slovo: sd\n",
            "{1: [], 2: 'sd', 3: [], 4: []}\n"
          ],
          "name": "stdout"
        }
      ]
    },
    {
      "cell_type": "code",
      "metadata": {
        "colab": {
          "base_uri": "https://localhost:8080/"
        },
        "id": "xDZC_vnZZb-x",
        "outputId": "614b8a37-f985-4262-a458-ccc479398af9"
      },
      "source": [
        "slova = [\"Nejkrasnejsi\", \"tuzka\", \"okno\", \"status\"]\n",
        "\n",
        "for slovo in slova:\n",
        "  print(slovo)"
      ],
      "execution_count": 37,
      "outputs": [
        {
          "output_type": "stream",
          "text": [
            "Nejkrasnejsi\n",
            "tuzka\n",
            "okno\n",
            "status\n"
          ],
          "name": "stdout"
        }
      ]
    },
    {
      "cell_type": "code",
      "metadata": {
        "colab": {
          "base_uri": "https://localhost:8080/"
        },
        "id": "mm9mSEmHZst3",
        "outputId": "a46d6916-61b0-4960-824f-e9b11f9c11dc"
      },
      "source": [
        "slovnik = dict()\n",
        "slova = [\"Nejkrasnejsi\", \"tuzka\", \"okno\", \"status\"]\n",
        "for slovo in slova:\n",
        "  slovnik.setdefault(len(slovo), []).append(slovo)\n",
        "print(slovnik)"
      ],
      "execution_count": 40,
      "outputs": [
        {
          "output_type": "stream",
          "text": [
            "{12: ['Nejkrasnejsi'], 5: ['tuzka'], 4: ['okno'], 6: ['status']}\n"
          ],
          "name": "stdout"
        }
      ]
    },
    {
      "cell_type": "code",
      "metadata": {
        "id": "IOOQfxl1bGtc"
      },
      "source": [
        ""
      ],
      "execution_count": null,
      "outputs": []
    }
  ]
}